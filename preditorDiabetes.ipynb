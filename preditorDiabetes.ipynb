{
 "cells": [
  {
   "cell_type": "code",
   "execution_count": 1,
   "id": "2a5883af-4747-4201-bf42-88f58f4c7f15",
   "metadata": {},
   "outputs": [],
   "source": [
    "import pandas as pd\n",
    "import numpy as np\n",
    "\n",
    "#Codificação atributos categóricos:\n",
    "from sklearn.preprocessing import LabelEncoder\n",
    "\n",
    "# Divisão base teste e treino:\n",
    "from sklearn.model_selection import train_test_split\n",
    "\n",
    "# Rede Neural: Perceptron Multicamadas\n",
    "from keras.models import Sequential\n",
    "from keras.layers import Dense, Dropout\n",
    "from keras.utils import to_categorical\n",
    "\n",
    "#Métrica de desempenho:\n",
    "from sklearn.metrics import accuracy_score"
   ]
  },
  {
   "cell_type": "code",
   "execution_count": 2,
   "id": "63ba120a-9dd1-47fa-9683-ee3458aad5d0",
   "metadata": {},
   "outputs": [],
   "source": [
    "dados = pd.read_csv(\"diabetes_data_upload.csv\")\n",
    "x = dados.iloc[:,0:16].values\n",
    "y = dados.iloc[:,16].values"
   ]
  },
  {
   "cell_type": "markdown",
   "id": "f9eb6713-fcff-4ccb-8ae2-2099f8e9327b",
   "metadata": {},
   "source": [
    "## Codificação:"
   ]
  },
  {
   "cell_type": "code",
   "execution_count": 3,
   "id": "3efecf86-6d45-4348-be7e-b18a46202940",
   "metadata": {},
   "outputs": [],
   "source": [
    "def codidifca_label_encoder(x):\n",
    "    return LabelEncoder().fit_transform(x)\n",
    "\n",
    "def codifica_one_hot_encoder(x):\n",
    "    return to_categorical(x)"
   ]
  },
  {
   "cell_type": "markdown",
   "id": "fd30123c-0c8d-454b-bb8a-c357ba66c385",
   "metadata": {},
   "source": [
    "## Normalização:"
   ]
  },
  {
   "cell_type": "code",
   "execution_count": 4,
   "id": "07d62a26-5d1f-440f-bf25-ab014c64e660",
   "metadata": {},
   "outputs": [],
   "source": [
    "def padroniza(x):\n",
    "    x = (x - np.mean(x))/np.std(x)\n",
    "    return x"
   ]
  },
  {
   "cell_type": "markdown",
   "id": "cf30adfc-a730-4a92-b6b4-0cb45a634fc7",
   "metadata": {},
   "source": [
    "## Split:"
   ]
  },
  {
   "cell_type": "code",
   "execution_count": 5,
   "id": "6c35f572-71b2-48fe-b77b-3cc3d5ce597f",
   "metadata": {},
   "outputs": [],
   "source": [
    "# Divisão da base de dados entre treinamento e teste (30% para testar e 70% para treinar)\n",
    "def split(x, y):\n",
    "    x_train, x_test, y_train, y_test = train_test_split(x, y, test_size=0.3, shuffle =False, random_state=3)\n",
    "    return x_train, x_test, y_train, y_test"
   ]
  },
  {
   "cell_type": "markdown",
   "id": "7609e1f5-cb62-4da0-967c-b83e3f1efb41",
   "metadata": {},
   "source": [
    "## Modelo:"
   ]
  },
  {
   "cell_type": "code",
   "execution_count": 6,
   "id": "086e765e-dd65-471b-9a00-6a85540a349a",
   "metadata": {},
   "outputs": [],
   "source": [
    "def modelo_classifier():\n",
    "    \n",
    "    modelo = Sequential()\n",
    "    modelo.add(Dense(units = 16, kernel_initializer = 'uniform', activation = 'relu', input_dim = x.shape[1] ))\n",
    "    modelo.add(Dense(units = 1, kernel_initializer = 'uniform', activation = 'sigmoid'))\n",
    "    modelo.compile(optimizer = 'adam', loss = 'binary_crossentropy', metrics = ['accuracy'])\n",
    "    \n",
    "    return modelo"
   ]
  },
  {
   "cell_type": "markdown",
   "id": "1fb9bf8e-87a1-48d7-a0d7-439ab0e574b2",
   "metadata": {},
   "source": [
    "## Converssão da Saída para Formato Binário:"
   ]
  },
  {
   "cell_type": "code",
   "execution_count": 7,
   "id": "1d97affb-4f6f-4d9a-9b98-cdd7c6dbd0b4",
   "metadata": {},
   "outputs": [],
   "source": [
    "def covert_to_binary(y_pred):\n",
    "    for i in range(y_pred.shape[0]):\n",
    "        y_pred[i,0] = 1 if y_pred[i,0] > 0.5 else 0\n",
    "    return y_pred"
   ]
  },
  {
   "cell_type": "markdown",
   "id": "9fd1973f-6985-4ffc-8110-6d5959c4b40d",
   "metadata": {},
   "source": [
    "## Execução:"
   ]
  },
  {
   "cell_type": "code",
   "execution_count": 8,
   "id": "5a032a3e-7e40-45b1-bd9a-c5497639d954",
   "metadata": {},
   "outputs": [
    {
     "data": {
      "text/plain": [
       "0.9935897435897436"
      ]
     },
     "execution_count": 8,
     "metadata": {},
     "output_type": "execute_result"
    }
   ],
   "source": [
    "#Codificação label para todos os atributos categoricos, exceto a idade:\n",
    "for i in range(1,16):\n",
    "    x[:,i] = codidifca_label_encoder(x[:,i])\n",
    "    \n",
    "#Codificação label para o atributo meta:\n",
    "y = codidifca_label_encoder(y)\n",
    "\n",
    "#Padronização da idade:\n",
    "x[:,0] = padroniza(x[:,0])\n",
    "\n",
    "x = x.astype(float)\n",
    "y = y.astype(float)\n",
    "\n",
    "#Split:\n",
    "(x_train, x_test, y_train, y_test) = split(x,y)\n",
    "\n",
    "#Treinamento:\n",
    "modelo = modelo_classifier()\n",
    "modelo.fit(x_train, y_train, epochs = 1000, verbose = 0)\n",
    "\n",
    "#Predição:\n",
    "y_pred = modelo.predict(x_test)\n",
    "\n",
    "#Conversão para formato binário:\n",
    "y_pred = covert_to_binary(y_pred)\n",
    "\n",
    "#Taxa de Acerto:\n",
    "accuracy_score(y_test, y_pred)"
   ]
  }
 ],
 "metadata": {
  "kernelspec": {
   "display_name": "Python 3",
   "language": "python",
   "name": "python3"
  },
  "language_info": {
   "codemirror_mode": {
    "name": "ipython",
    "version": 3
   },
   "file_extension": ".py",
   "mimetype": "text/x-python",
   "name": "python",
   "nbconvert_exporter": "python",
   "pygments_lexer": "ipython3",
   "version": "3.8.8"
  }
 },
 "nbformat": 4,
 "nbformat_minor": 5
}
